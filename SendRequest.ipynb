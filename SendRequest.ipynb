{
 "cells": [
  {
   "cell_type": "code",
   "execution_count": 12,
   "metadata": {},
   "outputs": [],
   "source": [
    "import pandas as pd\n",
    "import numpy as np\n",
    "from matplotlib import pyplot as plt"
   ]
  },
  {
   "cell_type": "code",
   "execution_count": 17,
   "metadata": {},
   "outputs": [],
   "source": [
    "json_data = {\n",
    "    \n",
    "'Loan_ID': 'LP001319',\n",
    "'Gender': 'Male',\n",
    "'Married': 'Yes',\n",
    "'Dependents': '2',\n",
    "'Education': 'Not Graduate',\n",
    "'Self_Employed': 'No',\n",
    "'ApplicantIncome': 3273,\n",
    "'CoapplicantIncome': 1820.0,\n",
    "'LoanAmount': 81.0,\n",
    "'Loan_Amount_Term': 360.0,\n",
    "'Credit_History': 1.0,\n",
    "'Property_Area': 'Urban'\n",
    "\n",
    "}"
   ]
  },
  {
   "cell_type": "code",
   "execution_count": 18,
   "metadata": {},
   "outputs": [],
   "source": [
    "import requests as r\n",
    "URL = \"http://3.14.64.188:5000/predict\"\n",
    "# sending get request and saving the response as response object \n",
    "r = r.post(url = URL, json = json_data)"
   ]
  },
  {
   "cell_type": "code",
   "execution_count": 19,
   "metadata": {},
   "outputs": [
    {
     "data": {
      "text/plain": [
       "['Y']"
      ]
     },
     "execution_count": 19,
     "metadata": {},
     "output_type": "execute_result"
    }
   ],
   "source": [
    "r.json()"
   ]
  },
  {
   "cell_type": "code",
   "execution_count": null,
   "metadata": {},
   "outputs": [],
   "source": []
  }
 ],
 "metadata": {
  "kernelspec": {
   "display_name": "Python 3.8.5 64-bit ('LHL')",
   "language": "python",
   "name": "python38564bitlhl48c2b6966d15486a813d68b84e525bc8"
  },
  "language_info": {
   "codemirror_mode": {
    "name": "ipython",
    "version": 3
   },
   "file_extension": ".py",
   "mimetype": "text/x-python",
   "name": "python",
   "nbconvert_exporter": "python",
   "pygments_lexer": "ipython3",
   "version": "3.8.5"
  }
 },
 "nbformat": 4,
 "nbformat_minor": 4
}
